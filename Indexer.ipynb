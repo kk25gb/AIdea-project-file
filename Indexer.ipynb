{
  "nbformat": 4,
  "nbformat_minor": 0,
  "metadata": {
    "colab": {
      "name": "Indexer.ipynb",
      "provenance": [],
      "collapsed_sections": [],
      "include_colab_link": true
    },
    "kernelspec": {
      "name": "python3",
      "display_name": "Python 3"
    },
    "language_info": {
      "name": "python"
    }
  },
  "cells": [
    {
      "cell_type": "markdown",
      "metadata": {
        "id": "view-in-github",
        "colab_type": "text"
      },
      "source": [
        "<a href=\"https://colab.research.google.com/github/kk25gb/AIdea-project-file/blob/Siamese-network/Indexer.ipynb\" target=\"_parent\"><img src=\"https://colab.research.google.com/assets/colab-badge.svg\" alt=\"Open In Colab\"/></a>"
      ]
    },
    {
      "cell_type": "markdown",
      "source": [
        "# 建立索引清單"
      ],
      "metadata": {
        "id": "9q6X-jsbsgCU"
      }
    },
    {
      "cell_type": "code",
      "source": [
        "import json\n",
        "import csv\n",
        "from urllib.request import urlopen\n",
        "from sklearn.cluster import KMeans\n",
        "import pandas as pd\n",
        "import numpy as np\n",
        "import tqdm"
      ],
      "metadata": {
        "id": "F_pYOrEgue-O"
      },
      "execution_count": 19,
      "outputs": []
    },
    {
      "cell_type": "code",
      "source": [
        "url = 'https://raw.githubusercontent.com/kk25gb/AIdea-project-file/main/stage1/vectorize_data.json'\n",
        "response = urlopen(url)\n",
        "data = json.loads(response.read())\n",
        "df = pd.DataFrame(data).T"
      ],
      "metadata": {
        "id": "EiPjXGqQur8P"
      },
      "execution_count": 20,
      "outputs": []
    },
    {
      "cell_type": "code",
      "source": [
        "# url = 'https://raw.githubusercontent.com/kk25gb/AIdea-project-file/Siamese-network/stage2/similarity_list_stage_2.json'\n",
        "# response = urlopen(url)\n",
        "# similarity_list = json.loads(response.read())"
      ],
      "metadata": {
        "id": "JZQfOlqpsmHG"
      },
      "execution_count": 21,
      "outputs": []
    },
    {
      "cell_type": "code",
      "source": [
        "# similarity_list"
      ],
      "metadata": {
        "id": "7DB8DulEu3_F"
      },
      "execution_count": 22,
      "outputs": []
    },
    {
      "cell_type": "code",
      "source": [
        "# url = 'https://raw.githubusercontent.com/kk25gb/AIdea-project-file/Siamese-network/stage2/column_filter.json'\n",
        "# response = urlopen(url)\n",
        "# column_filter = json.loads(response.read())"
      ],
      "metadata": {
        "id": "OfLksopvtNud"
      },
      "execution_count": 23,
      "outputs": []
    },
    {
      "cell_type": "code",
      "source": [
        "def Union_calculation(input):\n",
        "  union = set()\n",
        "  for values in list(input.values()):\n",
        "    if len(union)==0:\n",
        "      union = set(values)\n",
        "    else:\n",
        "      union = union & set(values)\n",
        "  return union"
      ],
      "metadata": {
        "id": "ew0W5t_Dt4fb"
      },
      "execution_count": 24,
      "outputs": []
    },
    {
      "cell_type": "code",
      "source": [
        "similarity_list = {}\n",
        "column_filter={}\n",
        "for key,labels in data.items():\n",
        "  row_1 = pd.DataFrame(labels).T\n",
        "  mask = row_1 > 0\n",
        "  filter = row_1[mask].dropna(axis=1).columns.tolist()\n",
        "  column_filter[key]=filter\n",
        "  filter_list = {}\n",
        "  for i in filter:\n",
        "    filter_list[i] = df.iloc[np.flatnonzero(df[i])].index.tolist()\n",
        "  similarity_list[key] = list(set(filter_list)) #list(Union_calculation(filter_list))"
      ],
      "metadata": {
        "id": "mkLt1IxQt2ZO"
      },
      "execution_count": 40,
      "outputs": []
    },
    {
      "cell_type": "code",
      "source": [
        "print(list(similarity_list.keys())[0])\n",
        "similarity_list[list(similarity_list.keys())[0]]"
      ],
      "metadata": {
        "id": "TchJLsnV0yxj",
        "outputId": "1f56ae9f-ad73-4626-b74f-75140d0a6f09",
        "colab": {
          "base_uri": "https://localhost:8080/"
        }
      },
      "execution_count": 46,
      "outputs": [
        {
          "output_type": "stream",
          "name": "stdout",
          "text": [
            "1\n"
          ]
        },
        {
          "output_type": "execute_result",
          "data": {
            "text/plain": [
              "[369, 2, 474, 156, 559]"
            ]
          },
          "metadata": {},
          "execution_count": 46
        }
      ]
    },
    {
      "cell_type": "code",
      "source": [
        "# similarity_list"
      ],
      "metadata": {
        "id": "fjefzqIC0uL7"
      },
      "execution_count": 27,
      "outputs": []
    },
    {
      "cell_type": "code",
      "source": [
        "index=3\n",
        "object_list = df[column_filter[list(column_filter.keys())[index]]].loc[list(similarity_list.keys())[index]]\n",
        "object_list.iloc[:].tolist()"
      ],
      "metadata": {
        "colab": {
          "base_uri": "https://localhost:8080/"
        },
        "id": "rCLSf4GdwbDW",
        "outputId": "3b082892-afbe-404a-a420-80a22d44f7da"
      },
      "execution_count": 41,
      "outputs": [
        {
          "output_type": "execute_result",
          "data": {
            "text/plain": [
              "[6, 14, 2, 3]"
            ]
          },
          "metadata": {},
          "execution_count": 41
        }
      ]
    },
    {
      "cell_type": "code",
      "source": [
        "df[column_filter[list(column_filter.keys())[index]]]"
      ],
      "metadata": {
        "id": "rq5jM2bW9x2W",
        "outputId": "c7d70518-8946-4a23-8f16-52a202d9434f",
        "colab": {
          "base_uri": "https://localhost:8080/",
          "height": 424
        }
      },
      "execution_count": 48,
      "outputs": [
        {
          "output_type": "execute_result",
          "data": {
            "text/html": [
              "<div>\n",
              "<style scoped>\n",
              "    .dataframe tbody tr th:only-of-type {\n",
              "        vertical-align: middle;\n",
              "    }\n",
              "\n",
              "    .dataframe tbody tr th {\n",
              "        vertical-align: top;\n",
              "    }\n",
              "\n",
              "    .dataframe thead th {\n",
              "        text-align: right;\n",
              "    }\n",
              "</style>\n",
              "<table border=\"1\" class=\"dataframe\">\n",
              "  <thead>\n",
              "    <tr style=\"text-align: right;\">\n",
              "      <th></th>\n",
              "      <th>2</th>\n",
              "      <th>156</th>\n",
              "      <th>369</th>\n",
              "      <th>474</th>\n",
              "      <th>559</th>\n",
              "    </tr>\n",
              "  </thead>\n",
              "  <tbody>\n",
              "    <tr>\n",
              "      <th>1</th>\n",
              "      <td>4</td>\n",
              "      <td>3</td>\n",
              "      <td>4</td>\n",
              "      <td>3</td>\n",
              "      <td>2</td>\n",
              "    </tr>\n",
              "    <tr>\n",
              "      <th>10</th>\n",
              "      <td>0</td>\n",
              "      <td>0</td>\n",
              "      <td>0</td>\n",
              "      <td>0</td>\n",
              "      <td>0</td>\n",
              "    </tr>\n",
              "    <tr>\n",
              "      <th>1000</th>\n",
              "      <td>0</td>\n",
              "      <td>0</td>\n",
              "      <td>0</td>\n",
              "      <td>0</td>\n",
              "      <td>0</td>\n",
              "    </tr>\n",
              "    <tr>\n",
              "      <th>1005</th>\n",
              "      <td>0</td>\n",
              "      <td>0</td>\n",
              "      <td>0</td>\n",
              "      <td>0</td>\n",
              "      <td>0</td>\n",
              "    </tr>\n",
              "    <tr>\n",
              "      <th>1007</th>\n",
              "      <td>0</td>\n",
              "      <td>0</td>\n",
              "      <td>0</td>\n",
              "      <td>0</td>\n",
              "      <td>0</td>\n",
              "    </tr>\n",
              "    <tr>\n",
              "      <th>...</th>\n",
              "      <td>...</td>\n",
              "      <td>...</td>\n",
              "      <td>...</td>\n",
              "      <td>...</td>\n",
              "      <td>...</td>\n",
              "    </tr>\n",
              "    <tr>\n",
              "      <th>986</th>\n",
              "      <td>0</td>\n",
              "      <td>0</td>\n",
              "      <td>0</td>\n",
              "      <td>0</td>\n",
              "      <td>0</td>\n",
              "    </tr>\n",
              "    <tr>\n",
              "      <th>988</th>\n",
              "      <td>0</td>\n",
              "      <td>0</td>\n",
              "      <td>0</td>\n",
              "      <td>1</td>\n",
              "      <td>0</td>\n",
              "    </tr>\n",
              "    <tr>\n",
              "      <th>992</th>\n",
              "      <td>0</td>\n",
              "      <td>0</td>\n",
              "      <td>0</td>\n",
              "      <td>0</td>\n",
              "      <td>0</td>\n",
              "    </tr>\n",
              "    <tr>\n",
              "      <th>997</th>\n",
              "      <td>0</td>\n",
              "      <td>0</td>\n",
              "      <td>0</td>\n",
              "      <td>0</td>\n",
              "      <td>0</td>\n",
              "    </tr>\n",
              "    <tr>\n",
              "      <th>998</th>\n",
              "      <td>0</td>\n",
              "      <td>0</td>\n",
              "      <td>0</td>\n",
              "      <td>0</td>\n",
              "      <td>0</td>\n",
              "    </tr>\n",
              "  </tbody>\n",
              "</table>\n",
              "<p>559 rows × 5 columns</p>\n",
              "</div>"
            ],
            "text/plain": [
              "      2    156  369  474  559\n",
              "1       4    3    4    3    2\n",
              "10      0    0    0    0    0\n",
              "1000    0    0    0    0    0\n",
              "1005    0    0    0    0    0\n",
              "1007    0    0    0    0    0\n",
              "...   ...  ...  ...  ...  ...\n",
              "986     0    0    0    0    0\n",
              "988     0    0    0    1    0\n",
              "992     0    0    0    0    0\n",
              "997     0    0    0    0    0\n",
              "998     0    0    0    0    0\n",
              "\n",
              "[559 rows x 5 columns]"
            ]
          },
          "metadata": {},
          "execution_count": 48
        }
      ]
    },
    {
      "cell_type": "code",
      "source": [
        "# index = 100\n",
        "index = list(column_filter.keys()).index('1033')\n",
        "print(\"Object:\",list(column_filter.keys())[index])\n",
        "print(\"index:\",column_filter[list(column_filter.keys())[index]])\n",
        "print(\"values:\",df[column_filter[list(column_filter.keys())[index]]].loc[list(similarity_list.keys())[index]].tolist())\n",
        "print(\"same_index_rows:\",similarity_list[list(similarity_list.keys())[index]])\n",
        "index_filter = df[column_filter[list(column_filter.keys())[index]]]#.loc[similarity_list[list(similarity_list.keys())[index]]]\n",
        "index_filter"
      ],
      "metadata": {
        "id": "YpYSCMK7seVv",
        "outputId": "18c2f02a-ef6b-4775-f943-dfe0fe172430",
        "colab": {
          "base_uri": "https://localhost:8080/",
          "height": 493
        }
      },
      "execution_count": 108,
      "outputs": [
        {
          "output_type": "stream",
          "name": "stdout",
          "text": [
            "Object: 1033\n",
            "index: [3, 467, 557]\n",
            "values: [4, 1, 5]\n",
            "same_index_rows: [3, 557, 467]\n"
          ]
        },
        {
          "output_type": "execute_result",
          "data": {
            "text/html": [
              "<div>\n",
              "<style scoped>\n",
              "    .dataframe tbody tr th:only-of-type {\n",
              "        vertical-align: middle;\n",
              "    }\n",
              "\n",
              "    .dataframe tbody tr th {\n",
              "        vertical-align: top;\n",
              "    }\n",
              "\n",
              "    .dataframe thead th {\n",
              "        text-align: right;\n",
              "    }\n",
              "</style>\n",
              "<table border=\"1\" class=\"dataframe\">\n",
              "  <thead>\n",
              "    <tr style=\"text-align: right;\">\n",
              "      <th></th>\n",
              "      <th>3</th>\n",
              "      <th>467</th>\n",
              "      <th>557</th>\n",
              "    </tr>\n",
              "  </thead>\n",
              "  <tbody>\n",
              "    <tr>\n",
              "      <th>1</th>\n",
              "      <td>0</td>\n",
              "      <td>0</td>\n",
              "      <td>0</td>\n",
              "    </tr>\n",
              "    <tr>\n",
              "      <th>10</th>\n",
              "      <td>0</td>\n",
              "      <td>0</td>\n",
              "      <td>0</td>\n",
              "    </tr>\n",
              "    <tr>\n",
              "      <th>1000</th>\n",
              "      <td>0</td>\n",
              "      <td>0</td>\n",
              "      <td>0</td>\n",
              "    </tr>\n",
              "    <tr>\n",
              "      <th>1005</th>\n",
              "      <td>0</td>\n",
              "      <td>0</td>\n",
              "      <td>0</td>\n",
              "    </tr>\n",
              "    <tr>\n",
              "      <th>1007</th>\n",
              "      <td>0</td>\n",
              "      <td>0</td>\n",
              "      <td>0</td>\n",
              "    </tr>\n",
              "    <tr>\n",
              "      <th>...</th>\n",
              "      <td>...</td>\n",
              "      <td>...</td>\n",
              "      <td>...</td>\n",
              "    </tr>\n",
              "    <tr>\n",
              "      <th>986</th>\n",
              "      <td>0</td>\n",
              "      <td>0</td>\n",
              "      <td>0</td>\n",
              "    </tr>\n",
              "    <tr>\n",
              "      <th>988</th>\n",
              "      <td>0</td>\n",
              "      <td>0</td>\n",
              "      <td>0</td>\n",
              "    </tr>\n",
              "    <tr>\n",
              "      <th>992</th>\n",
              "      <td>0</td>\n",
              "      <td>0</td>\n",
              "      <td>0</td>\n",
              "    </tr>\n",
              "    <tr>\n",
              "      <th>997</th>\n",
              "      <td>0</td>\n",
              "      <td>0</td>\n",
              "      <td>0</td>\n",
              "    </tr>\n",
              "    <tr>\n",
              "      <th>998</th>\n",
              "      <td>0</td>\n",
              "      <td>0</td>\n",
              "      <td>0</td>\n",
              "    </tr>\n",
              "  </tbody>\n",
              "</table>\n",
              "<p>559 rows × 3 columns</p>\n",
              "</div>"
            ],
            "text/plain": [
              "      3    467  557\n",
              "1       0    0    0\n",
              "10      0    0    0\n",
              "1000    0    0    0\n",
              "1005    0    0    0\n",
              "1007    0    0    0\n",
              "...   ...  ...  ...\n",
              "986     0    0    0\n",
              "988     0    0    0\n",
              "992     0    0    0\n",
              "997     0    0    0\n",
              "998     0    0    0\n",
              "\n",
              "[559 rows x 3 columns]"
            ]
          },
          "metadata": {},
          "execution_count": 108
        }
      ]
    },
    {
      "cell_type": "code",
      "source": [
        "pd.DataFrame(df[column_filter[list(column_filter.keys())[index]]].loc[['1073','741']])"
      ],
      "metadata": {
        "id": "BJWnvK7EABXM",
        "outputId": "d2218baf-689b-433b-c378-c850c68a9cc6",
        "colab": {
          "base_uri": "https://localhost:8080/",
          "height": 112
        }
      },
      "execution_count": 109,
      "outputs": [
        {
          "output_type": "execute_result",
          "data": {
            "text/html": [
              "<div>\n",
              "<style scoped>\n",
              "    .dataframe tbody tr th:only-of-type {\n",
              "        vertical-align: middle;\n",
              "    }\n",
              "\n",
              "    .dataframe tbody tr th {\n",
              "        vertical-align: top;\n",
              "    }\n",
              "\n",
              "    .dataframe thead th {\n",
              "        text-align: right;\n",
              "    }\n",
              "</style>\n",
              "<table border=\"1\" class=\"dataframe\">\n",
              "  <thead>\n",
              "    <tr style=\"text-align: right;\">\n",
              "      <th></th>\n",
              "      <th>3</th>\n",
              "      <th>467</th>\n",
              "      <th>557</th>\n",
              "    </tr>\n",
              "  </thead>\n",
              "  <tbody>\n",
              "    <tr>\n",
              "      <th>1073</th>\n",
              "      <td>2</td>\n",
              "      <td>1</td>\n",
              "      <td>8</td>\n",
              "    </tr>\n",
              "    <tr>\n",
              "      <th>741</th>\n",
              "      <td>2</td>\n",
              "      <td>0</td>\n",
              "      <td>8</td>\n",
              "    </tr>\n",
              "  </tbody>\n",
              "</table>\n",
              "</div>"
            ],
            "text/plain": [
              "      3    467  557\n",
              "1073    2    1    8\n",
              "741     2    0    8"
            ]
          },
          "metadata": {},
          "execution_count": 109
        }
      ]
    },
    {
      "cell_type": "code",
      "source": [
        "filter_dict={}\n",
        "for key ,value in zip(index_filter.index,index_filter.iloc[:,:].values):\n",
        "    if str(value).count('0')/len(value) <= 0.5 and key != index:\n",
        "        filter_dict[key] = list(value)\n",
        "    # break"
      ],
      "metadata": {
        "id": "_iSoZVqO-KU3"
      },
      "execution_count": 110,
      "outputs": []
    },
    {
      "cell_type": "code",
      "source": [
        "pd.DataFrame(df[column_filter[list(column_filter.keys())[index]]].loc[list(filter_dict.keys())])"
      ],
      "metadata": {
        "id": "nOO1pfaY_e7l",
        "outputId": "8c1acf5e-5895-48e3-a6bf-708b8c347be7",
        "colab": {
          "base_uri": "https://localhost:8080/",
          "height": 614
        }
      },
      "execution_count": 111,
      "outputs": [
        {
          "output_type": "execute_result",
          "data": {
            "text/html": [
              "<div>\n",
              "<style scoped>\n",
              "    .dataframe tbody tr th:only-of-type {\n",
              "        vertical-align: middle;\n",
              "    }\n",
              "\n",
              "    .dataframe tbody tr th {\n",
              "        vertical-align: top;\n",
              "    }\n",
              "\n",
              "    .dataframe thead th {\n",
              "        text-align: right;\n",
              "    }\n",
              "</style>\n",
              "<table border=\"1\" class=\"dataframe\">\n",
              "  <thead>\n",
              "    <tr style=\"text-align: right;\">\n",
              "      <th></th>\n",
              "      <th>3</th>\n",
              "      <th>467</th>\n",
              "      <th>557</th>\n",
              "    </tr>\n",
              "  </thead>\n",
              "  <tbody>\n",
              "    <tr>\n",
              "      <th>1025</th>\n",
              "      <td>2</td>\n",
              "      <td>2</td>\n",
              "      <td>8</td>\n",
              "    </tr>\n",
              "    <tr>\n",
              "      <th>1033</th>\n",
              "      <td>4</td>\n",
              "      <td>1</td>\n",
              "      <td>5</td>\n",
              "    </tr>\n",
              "    <tr>\n",
              "      <th>1039</th>\n",
              "      <td>4</td>\n",
              "      <td>1</td>\n",
              "      <td>5</td>\n",
              "    </tr>\n",
              "    <tr>\n",
              "      <th>1073</th>\n",
              "      <td>2</td>\n",
              "      <td>1</td>\n",
              "      <td>8</td>\n",
              "    </tr>\n",
              "    <tr>\n",
              "      <th>189</th>\n",
              "      <td>2</td>\n",
              "      <td>0</td>\n",
              "      <td>15</td>\n",
              "    </tr>\n",
              "    <tr>\n",
              "      <th>191</th>\n",
              "      <td>2</td>\n",
              "      <td>0</td>\n",
              "      <td>3</td>\n",
              "    </tr>\n",
              "    <tr>\n",
              "      <th>3</th>\n",
              "      <td>2</td>\n",
              "      <td>0</td>\n",
              "      <td>4</td>\n",
              "    </tr>\n",
              "    <tr>\n",
              "      <th>313</th>\n",
              "      <td>2</td>\n",
              "      <td>0</td>\n",
              "      <td>8</td>\n",
              "    </tr>\n",
              "    <tr>\n",
              "      <th>35</th>\n",
              "      <td>4</td>\n",
              "      <td>0</td>\n",
              "      <td>3</td>\n",
              "    </tr>\n",
              "    <tr>\n",
              "      <th>415</th>\n",
              "      <td>2</td>\n",
              "      <td>1</td>\n",
              "      <td>1</td>\n",
              "    </tr>\n",
              "    <tr>\n",
              "      <th>649</th>\n",
              "      <td>4</td>\n",
              "      <td>0</td>\n",
              "      <td>13</td>\n",
              "    </tr>\n",
              "    <tr>\n",
              "      <th>66</th>\n",
              "      <td>4</td>\n",
              "      <td>0</td>\n",
              "      <td>4</td>\n",
              "    </tr>\n",
              "    <tr>\n",
              "      <th>689</th>\n",
              "      <td>2</td>\n",
              "      <td>0</td>\n",
              "      <td>15</td>\n",
              "    </tr>\n",
              "    <tr>\n",
              "      <th>741</th>\n",
              "      <td>2</td>\n",
              "      <td>0</td>\n",
              "      <td>8</td>\n",
              "    </tr>\n",
              "    <tr>\n",
              "      <th>75</th>\n",
              "      <td>3</td>\n",
              "      <td>0</td>\n",
              "      <td>2</td>\n",
              "    </tr>\n",
              "    <tr>\n",
              "      <th>824</th>\n",
              "      <td>3</td>\n",
              "      <td>0</td>\n",
              "      <td>3</td>\n",
              "    </tr>\n",
              "    <tr>\n",
              "      <th>923</th>\n",
              "      <td>2</td>\n",
              "      <td>0</td>\n",
              "      <td>16</td>\n",
              "    </tr>\n",
              "    <tr>\n",
              "      <th>968</th>\n",
              "      <td>3</td>\n",
              "      <td>0</td>\n",
              "      <td>1</td>\n",
              "    </tr>\n",
              "  </tbody>\n",
              "</table>\n",
              "</div>"
            ],
            "text/plain": [
              "      3    467  557\n",
              "1025    2    2    8\n",
              "1033    4    1    5\n",
              "1039    4    1    5\n",
              "1073    2    1    8\n",
              "189     2    0   15\n",
              "191     2    0    3\n",
              "3       2    0    4\n",
              "313     2    0    8\n",
              "35      4    0    3\n",
              "415     2    1    1\n",
              "649     4    0   13\n",
              "66      4    0    4\n",
              "689     2    0   15\n",
              "741     2    0    8\n",
              "75      3    0    2\n",
              "824     3    0    3\n",
              "923     2    0   16\n",
              "968     3    0    1"
            ]
          },
          "metadata": {},
          "execution_count": 111
        }
      ]
    },
    {
      "cell_type": "markdown",
      "source": [
        "# 進行迭代分析"
      ],
      "metadata": {
        "id": "Tw4D9Oci1SbW"
      }
    },
    {
      "cell_type": "code",
      "source": [
        "df[column_filter[list(column_filter.keys())[index]]].loc[list(similarity_list.keys())[index]].tolist()"
      ],
      "metadata": {
        "colab": {
          "base_uri": "https://localhost:8080/"
        },
        "id": "LFvPh4TTvqA_",
        "outputId": "5c889277-c683-4b36-df10-2d4b413d793b"
      },
      "execution_count": 30,
      "outputs": [
        {
          "output_type": "execute_result",
          "data": {
            "text/plain": [
              "[4, 4, 8, 1]"
            ]
          },
          "metadata": {},
          "execution_count": 30
        }
      ]
    },
    {
      "cell_type": "code",
      "source": [
        "results = {}\n",
        "for i in list(column_filter.keys()):\n",
        "  index_object = column_filter[i]\n",
        "  # print(\"Object:\",i,index_object)\n",
        "  compare_object = df[column_filter[i]].loc[i].tolist()\n",
        "  results[i]={\"key\":index_object}\n",
        "  compare_table = df[column_filter[i]].loc[similarity_list[i]]\n",
        "  temp={}\n",
        "  for key, value in zip(compare_table.iloc[:,:].index,compare_table.iloc[:,:].values):\n",
        "    if key!=i:temp[key] = value.tolist()\n",
        "  if len(temp)>0:\n",
        "    results[i][\"values\"]=temp\n",
        "  else:\n",
        "    del results[i]\n",
        "  # print('----------------------')\n",
        "  # break\n",
        "  "
      ],
      "metadata": {
        "id": "4ms-X3lf1hJ1"
      },
      "execution_count": 31,
      "outputs": []
    },
    {
      "cell_type": "code",
      "source": [
        "# compare_table.iloc[:,:].index"
      ],
      "metadata": {
        "id": "Fb2931pU2Qgo"
      },
      "execution_count": 32,
      "outputs": []
    },
    {
      "cell_type": "code",
      "source": [
        "# results"
      ],
      "metadata": {
        "id": "-ygIs0mS1ad9"
      },
      "execution_count": null,
      "outputs": []
    },
    {
      "cell_type": "markdown",
      "source": [
        "# 文章篩選"
      ],
      "metadata": {
        "id": "m5M42JG-ESt_"
      }
    },
    {
      "cell_type": "code",
      "source": [
        "url = 'https://raw.githubusercontent.com/kk25gb/AIdea-project-file/Siamese-network/stage1/dataTrainComplete.json'\n",
        "response = urlopen(url)\n",
        "origin_assay = json.loads(response.read())"
      ],
      "metadata": {
        "id": "I4Vs6XPYD2CQ"
      },
      "execution_count": 112,
      "outputs": []
    },
    {
      "cell_type": "code",
      "source": [
        "origin_assay['1033']"
      ],
      "metadata": {
        "id": "Woqsp3V2D7GF",
        "outputId": "9878b714-2606-44e4-e53d-7a330e2ab759",
        "colab": {
          "base_uri": "https://localhost:8080/",
          "height": 70
        }
      },
      "execution_count": 113,
      "outputs": [
        {
          "output_type": "execute_result",
          "data": {
            "application/vnd.google.colaboratory.intrinsic+json": {
              "type": "string"
            },
            "text/plain": [
              "'本市斜紋夜蛾疫情升溫，請加強防治。臺中市政府、防檢局及田邊好幫手關心您。依5月份性費洛蒙監測調查，臺中市外埔區、沙鹿區、東勢區及和平區等區域斜紋夜蛾成蟲密度增加，其幼蟲食量大常造成嚴重災情，籲請農民注意，並加強防治工作，避免蟲害蔓延擴散。(1)捕殺幼蟲或摘除卵塊:田間如發現卵塊或幼蟲，應立即捕殺或移出田間。(2)全期懸掛斜紋夜蛾性費洛蒙:誘引斜紋夜蛾雄蛾，減少交尾繁殖後代，並藉以監測田間族群密度，族群密度提升應啟動防治工作。(3)田區翻耕淹水:受害嚴重之綠肥作物應盡速翻耕淹水，避免斜紋夜蛾滋生蔓延。(4)化學藥劑防治:請農友參閱防檢局農藥資訊服務網病蟲害防治(https://pesticide.baphiq.gov.tw/web/Insecticides_MenuItem5_5.aspx)，並請注意安全採收期。'"
            ]
          },
          "metadata": {},
          "execution_count": 113
        }
      ]
    },
    {
      "cell_type": "code",
      "source": [
        "origin_assay['415']"
      ],
      "metadata": {
        "id": "duQ_3k94D89W",
        "outputId": "222dc4a4-3294-4fd9-9bc5-646a2e59b891",
        "colab": {
          "base_uri": "https://localhost:8080/",
          "height": 157
        }
      },
      "execution_count": 115,
      "outputs": [
        {
          "output_type": "execute_result",
          "data": {
            "application/vnd.google.colaboratory.intrinsic+json": {
              "type": "string"
            },
            "text/plain": [
              "'夜蛾拉警報，白粉等著來，臺南區農改場籲請加強防治。臺南區農改場、防檢局及田邊好幫手關心您。目前氣候乾燥及正值季節轉換期間，田間夜蛾類害蟲密度逐漸上升，尤以落花生田區發生嚴重。同時天氣漸轉冷涼，早晚溫差變大，白粉病發生機率提高，為確保作物正常生長及良好收成，臺南區農業改良場籲請農友注意夜蛾類害蟲及白粉病防治。常見危害夜蛾有斜紋夜蛾及甜菜夜蛾，兩者幼蟲皆晝伏夜出，雜食性，可危害作物如葉菜類、茼蒿、落花生、田菁、毛豆、豌豆、大蒜、青蔥、甘藷、玉米、蓮花及花卉等數十種作物。幼蟲食量極大，會大量啃食植株心梢及葉片，阻礙作物的正常生長，影響產量及品質，嚴重時常導致全園廢耕。白粉病是常見的作物葉部病害，感染初期通常由下位葉開始發生，葉表面出現白至淺灰之圓形小病斑，擴大癒合後即好似一層糖霜覆蓋整個葉面，影響光合作用，若遇久旱不雨的天氣，嚴重時葉片黃化，提早落葉。於春、秋兩季較乾燥及光線不足的環境下危害劇烈，由於白粉病亦會感染葉柄、嫩蔓等部位，如病害繼續進行，最終作物全株表面皆覆滿白色粉狀物而呈青白色。夜蛾類害蟲防治上應注意下列事項：(1)田間如發現夜蛾類害蟲卵塊、幼蟲，應立即捕殺或摘除(2)幼蟲及成蟲大多於太陽下山或傍晚時分開始活動，傍晚噴藥效果較佳，噴灑時應注意使用充足水量(3)參考植物保護手冊推薦用藥，選擇藥劑交互使用，以避免害蟲產生抗藥性(4)利用性費洛蒙長期誘殺雄蛾，以降低其田間密度。每公頃設5~10個點，放置高度約為離地150公分或作物生長點上方30~60公分，每月更新誘餌一次。作物種植密集地區應採共同防治，成效更佳(5)注意清園之工作，間作之作物應同時施藥，徹底清除蟲源(6)旱田作物於種植前整地翻犁後浸水一天以上，可將土中的蛹或幼蟲淹死(7)收穫前注意化學藥劑的使用，或改用蘇力菌防治，注意安全採收期，以免造成農藥殘留過量之問題(8)受害嚴重之綠肥作物或廢耕田區應儘速翻犁淹水，避免夜蛾類滋生蔓延。白粉病防治法如下：(1)保持良好通風狀況，避免莖葉過於茂密。(2)發病初期可施用葵無露或窄域油。(3)參考作物登記藥劑，由於白粉病病原菌易產生抗藥性，因此應選擇多種藥劑，輪流施用，以避免抗藥性產生，並遵守安全採收期。白粉病葉面葉背都會發生，因此防治時應注意均勻噴施藥劑於葉片兩面。藥劑防治請參考植物保護手冊登記藥劑，可於本場網站連結各項作物的相關用藥資料：http://www.tndais.gov.tw/view.php?catid=382點選所種植的作物選用登記藥劑，用藥時應依標示使用，並嚴格遵守安全採收期。若有防治上的問題可與臺南區農業改良場研究人員聯絡。（聯絡人：陳盈丞、蔡孟旅，06-5912901轉302、306）'"
            ]
          },
          "metadata": {},
          "execution_count": 115
        }
      ]
    },
    {
      "cell_type": "markdown",
      "source": [
        "# 匯出檔案"
      ],
      "metadata": {
        "id": "GONtFyWuj52s"
      }
    },
    {
      "cell_type": "markdown",
      "source": [
        "##儲存為JSON格式"
      ],
      "metadata": {
        "id": "yozTSaIzj8Gp"
      }
    },
    {
      "cell_type": "code",
      "source": [
        "import json\n",
        "with open('./results.json', 'w', encoding='utf8') as f:\n",
        "    json.dump(results, f, ensure_ascii=False)"
      ],
      "metadata": {
        "id": "WvJ6s_Nqj7v3"
      },
      "execution_count": 34,
      "outputs": []
    },
    {
      "cell_type": "markdown",
      "source": [
        "## 從Colab下載檔案到電腦"
      ],
      "metadata": {
        "id": "Evb15Mxlj3H9"
      }
    },
    {
      "cell_type": "code",
      "source": [
        "from google.colab import files\n",
        "files.download(\"/content/results.json\")"
      ],
      "metadata": {
        "id": "q9uaWWvij2NM",
        "outputId": "a09273db-6481-4691-e825-628428425f09",
        "colab": {
          "base_uri": "https://localhost:8080/",
          "height": 17
        }
      },
      "execution_count": 35,
      "outputs": [
        {
          "output_type": "display_data",
          "data": {
            "application/javascript": [
              "\n",
              "    async function download(id, filename, size) {\n",
              "      if (!google.colab.kernel.accessAllowed) {\n",
              "        return;\n",
              "      }\n",
              "      const div = document.createElement('div');\n",
              "      const label = document.createElement('label');\n",
              "      label.textContent = `Downloading \"${filename}\": `;\n",
              "      div.appendChild(label);\n",
              "      const progress = document.createElement('progress');\n",
              "      progress.max = size;\n",
              "      div.appendChild(progress);\n",
              "      document.body.appendChild(div);\n",
              "\n",
              "      const buffers = [];\n",
              "      let downloaded = 0;\n",
              "\n",
              "      const channel = await google.colab.kernel.comms.open(id);\n",
              "      // Send a message to notify the kernel that we're ready.\n",
              "      channel.send({})\n",
              "\n",
              "      for await (const message of channel.messages) {\n",
              "        // Send a message to notify the kernel that we're ready.\n",
              "        channel.send({})\n",
              "        if (message.buffers) {\n",
              "          for (const buffer of message.buffers) {\n",
              "            buffers.push(buffer);\n",
              "            downloaded += buffer.byteLength;\n",
              "            progress.value = downloaded;\n",
              "          }\n",
              "        }\n",
              "      }\n",
              "      const blob = new Blob(buffers, {type: 'application/binary'});\n",
              "      const a = document.createElement('a');\n",
              "      a.href = window.URL.createObjectURL(blob);\n",
              "      a.download = filename;\n",
              "      div.appendChild(a);\n",
              "      a.click();\n",
              "      div.remove();\n",
              "    }\n",
              "  "
            ],
            "text/plain": [
              "<IPython.core.display.Javascript object>"
            ]
          },
          "metadata": {}
        },
        {
          "output_type": "display_data",
          "data": {
            "application/javascript": [
              "download(\"download_4920f0c8-9f3b-4194-9812-7cbcc5413579\", \"results.json\", 69968)"
            ],
            "text/plain": [
              "<IPython.core.display.Javascript object>"
            ]
          },
          "metadata": {}
        }
      ]
    }
  ]
}