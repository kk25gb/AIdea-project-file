{
  "nbformat": 4,
  "nbformat_minor": 0,
  "metadata": {
    "colab": {
      "name": "Indexer.ipynb",
      "provenance": [],
      "collapsed_sections": [],
      "authorship_tag": "ABX9TyO2b80/wInzaaJayEBRTS0C",
      "include_colab_link": true
    },
    "kernelspec": {
      "name": "python3",
      "display_name": "Python 3"
    },
    "language_info": {
      "name": "python"
    }
  },
  "cells": [
    {
      "cell_type": "markdown",
      "metadata": {
        "id": "view-in-github",
        "colab_type": "text"
      },
      "source": [
        "<a href=\"https://colab.research.google.com/github/kk25gb/AIdea-project-file/blob/Siamese-network/Indexer.ipynb\" target=\"_parent\"><img src=\"https://colab.research.google.com/assets/colab-badge.svg\" alt=\"Open In Colab\"/></a>"
      ]
    },
    {
      "cell_type": "markdown",
      "source": [
        "# 建立索引清單"
      ],
      "metadata": {
        "id": "9q6X-jsbsgCU"
      }
    },
    {
      "cell_type": "code",
      "source": [
        "import json\n",
        "import csv\n",
        "from urllib.request import urlopen\n",
        "from sklearn.cluster import KMeans\n",
        "import pandas as pd\n",
        "import numpy as np\n",
        "import tqdm"
      ],
      "metadata": {
        "id": "F_pYOrEgue-O"
      },
      "execution_count": 52,
      "outputs": []
    },
    {
      "cell_type": "code",
      "source": [
        "url = 'https://raw.githubusercontent.com/kk25gb/AIdea-project-file/main/stage2/vectorize_data.json'\n",
        "response = urlopen(url)\n",
        "data = json.loads(response.read())\n",
        "known_assay_labels = list(data.keys())\n",
        "df = pd.DataFrame(data).T"
      ],
      "metadata": {
        "id": "EiPjXGqQur8P"
      },
      "execution_count": 53,
      "outputs": []
    },
    {
      "cell_type": "code",
      "source": [
        "url = 'https://raw.githubusercontent.com/kk25gb/AIdea-project-file/Siamese-network/stage2/similarity_list_stage_2.json'\n",
        "response = urlopen(url)\n",
        "similarity_list = json.loads(response.read())"
      ],
      "metadata": {
        "id": "JZQfOlqpsmHG"
      },
      "execution_count": 54,
      "outputs": []
    },
    {
      "cell_type": "code",
      "source": [
        "# similarity_list"
      ],
      "metadata": {
        "id": "7DB8DulEu3_F"
      },
      "execution_count": 55,
      "outputs": []
    },
    {
      "cell_type": "code",
      "source": [
        "url = 'https://raw.githubusercontent.com/kk25gb/AIdea-project-file/Siamese-network/stage2/column_filter.json'\n",
        "response = urlopen(url)\n",
        "column_filter = json.loads(response.read())"
      ],
      "metadata": {
        "id": "OfLksopvtNud"
      },
      "execution_count": 56,
      "outputs": []
    },
    {
      "cell_type": "code",
      "source": [
        "index=0\n",
        "object_list = df[column_filter[list(column_filter.keys())[index]]].loc[list(similarity_list.keys())[index]]\n",
        "object_list.iloc[:].tolist()"
      ],
      "metadata": {
        "colab": {
          "base_uri": "https://localhost:8080/"
        },
        "id": "rCLSf4GdwbDW",
        "outputId": "8f6c4a72-f517-4b31-de5d-33b48d77090c"
      },
      "execution_count": 57,
      "outputs": [
        {
          "output_type": "execute_result",
          "data": {
            "text/plain": [
              "[6, 14, 2, 3]"
            ]
          },
          "metadata": {},
          "execution_count": 57
        }
      ]
    },
    {
      "cell_type": "code",
      "source": [
        "index = 16\n",
        "print(\"Object:\",list(column_filter.keys())[index])\n",
        "print(\"index:\",column_filter[list(column_filter.keys())[index]])\n",
        "print(\"values:\",df[column_filter[list(column_filter.keys())[index]]].loc[list(similarity_list.keys())[index]].tolist())\n",
        "print(\"same_index_rows:\",similarity_list[list(similarity_list.keys())[index]])\n",
        "index_filter = df[column_filter[list(column_filter.keys())[index]]].loc[similarity_list[list(similarity_list.keys())[index]]]\n",
        "index_filter"
      ],
      "metadata": {
        "id": "YpYSCMK7seVv",
        "outputId": "62f64e04-272f-4ed3-f3fc-50813acae691",
        "colab": {
          "base_uri": "https://localhost:8080/",
          "height": 369
        }
      },
      "execution_count": 94,
      "outputs": [
        {
          "output_type": "stream",
          "name": "stdout",
          "text": [
            "Object: 1036\n",
            "index: [3, 467, 557]\n",
            "values: [4, 1, 5]\n",
            "same_index_rows: ['615', '1029', '908', '1032', '407', '1036', '990', '1399']\n"
          ]
        },
        {
          "output_type": "execute_result",
          "data": {
            "text/html": [
              "<div>\n",
              "<style scoped>\n",
              "    .dataframe tbody tr th:only-of-type {\n",
              "        vertical-align: middle;\n",
              "    }\n",
              "\n",
              "    .dataframe tbody tr th {\n",
              "        vertical-align: top;\n",
              "    }\n",
              "\n",
              "    .dataframe thead th {\n",
              "        text-align: right;\n",
              "    }\n",
              "</style>\n",
              "<table border=\"1\" class=\"dataframe\">\n",
              "  <thead>\n",
              "    <tr style=\"text-align: right;\">\n",
              "      <th></th>\n",
              "      <th>3</th>\n",
              "      <th>467</th>\n",
              "      <th>557</th>\n",
              "    </tr>\n",
              "  </thead>\n",
              "  <tbody>\n",
              "    <tr>\n",
              "      <th>615</th>\n",
              "      <td>4</td>\n",
              "      <td>2</td>\n",
              "      <td>6</td>\n",
              "    </tr>\n",
              "    <tr>\n",
              "      <th>1029</th>\n",
              "      <td>2</td>\n",
              "      <td>1</td>\n",
              "      <td>4</td>\n",
              "    </tr>\n",
              "    <tr>\n",
              "      <th>908</th>\n",
              "      <td>4</td>\n",
              "      <td>1</td>\n",
              "      <td>9</td>\n",
              "    </tr>\n",
              "    <tr>\n",
              "      <th>1032</th>\n",
              "      <td>4</td>\n",
              "      <td>1</td>\n",
              "      <td>5</td>\n",
              "    </tr>\n",
              "    <tr>\n",
              "      <th>407</th>\n",
              "      <td>2</td>\n",
              "      <td>1</td>\n",
              "      <td>7</td>\n",
              "    </tr>\n",
              "    <tr>\n",
              "      <th>1036</th>\n",
              "      <td>4</td>\n",
              "      <td>1</td>\n",
              "      <td>5</td>\n",
              "    </tr>\n",
              "    <tr>\n",
              "      <th>990</th>\n",
              "      <td>2</td>\n",
              "      <td>1</td>\n",
              "      <td>14</td>\n",
              "    </tr>\n",
              "    <tr>\n",
              "      <th>1399</th>\n",
              "      <td>2</td>\n",
              "      <td>1</td>\n",
              "      <td>1</td>\n",
              "    </tr>\n",
              "  </tbody>\n",
              "</table>\n",
              "</div>"
            ],
            "text/plain": [
              "      3    467  557\n",
              "615     4    2    6\n",
              "1029    2    1    4\n",
              "908     4    1    9\n",
              "1032    4    1    5\n",
              "407     2    1    7\n",
              "1036    4    1    5\n",
              "990     2    1   14\n",
              "1399    2    1    1"
            ]
          },
          "metadata": {},
          "execution_count": 94
        }
      ]
    },
    {
      "cell_type": "markdown",
      "source": [
        "# 進行迭代分析"
      ],
      "metadata": {
        "id": "Tw4D9Oci1SbW"
      }
    },
    {
      "cell_type": "code",
      "source": [
        "results = {}\n",
        "for i in list(column_filter.keys()):\n",
        "  index_object = df[column_filter[i]].loc[i].tolist()\n",
        "  # print(\"Object:\",i,index_object)\n",
        "  compare_object = df[column_filter[i]].loc[similarity_list[i]]\n",
        "  results[i]={\"key\":column_filter[i]}\n",
        "  temp={}\n",
        "  for key, value in zip(compare_object.iloc[:,:].index,compare_object.iloc[:,:].values):\n",
        "    if key!=i:temp[key] = value.tolist()\n",
        "  if len(temp)>0:\n",
        "    results[i][\"values\"]=temp\n",
        "  else:\n",
        "    del results[i]\n",
        "  # print('----------------------')\n",
        "  # break\n",
        "  "
      ],
      "metadata": {
        "id": "4ms-X3lf1hJ1"
      },
      "execution_count": 64,
      "outputs": []
    },
    {
      "cell_type": "code",
      "source": [
        "# results"
      ],
      "metadata": {
        "id": "-ygIs0mS1ad9"
      },
      "execution_count": 95,
      "outputs": []
    },
    {
      "cell_type": "markdown",
      "source": [
        "# 匯出檔案"
      ],
      "metadata": {
        "id": "GONtFyWuj52s"
      }
    },
    {
      "cell_type": "markdown",
      "source": [
        "##儲存為JSON格式"
      ],
      "metadata": {
        "id": "yozTSaIzj8Gp"
      }
    },
    {
      "cell_type": "code",
      "source": [
        "import json\n",
        "with open('./results.json', 'w', encoding='utf8') as f:\n",
        "    json.dump(results, f, ensure_ascii=False)"
      ],
      "metadata": {
        "id": "WvJ6s_Nqj7v3"
      },
      "execution_count": 66,
      "outputs": []
    },
    {
      "cell_type": "markdown",
      "source": [
        "## 從Colab下載檔案到電腦"
      ],
      "metadata": {
        "id": "Evb15Mxlj3H9"
      }
    },
    {
      "cell_type": "code",
      "source": [
        "from google.colab import files\n",
        "files.download(\"/content/results.json\")"
      ],
      "metadata": {
        "colab": {
          "base_uri": "https://localhost:8080/",
          "height": 17
        },
        "id": "q9uaWWvij2NM",
        "outputId": "42a4be94-b71d-4377-b5e4-687f63bc31ab"
      },
      "execution_count": 67,
      "outputs": [
        {
          "output_type": "display_data",
          "data": {
            "application/javascript": [
              "\n",
              "    async function download(id, filename, size) {\n",
              "      if (!google.colab.kernel.accessAllowed) {\n",
              "        return;\n",
              "      }\n",
              "      const div = document.createElement('div');\n",
              "      const label = document.createElement('label');\n",
              "      label.textContent = `Downloading \"${filename}\": `;\n",
              "      div.appendChild(label);\n",
              "      const progress = document.createElement('progress');\n",
              "      progress.max = size;\n",
              "      div.appendChild(progress);\n",
              "      document.body.appendChild(div);\n",
              "\n",
              "      const buffers = [];\n",
              "      let downloaded = 0;\n",
              "\n",
              "      const channel = await google.colab.kernel.comms.open(id);\n",
              "      // Send a message to notify the kernel that we're ready.\n",
              "      channel.send({})\n",
              "\n",
              "      for await (const message of channel.messages) {\n",
              "        // Send a message to notify the kernel that we're ready.\n",
              "        channel.send({})\n",
              "        if (message.buffers) {\n",
              "          for (const buffer of message.buffers) {\n",
              "            buffers.push(buffer);\n",
              "            downloaded += buffer.byteLength;\n",
              "            progress.value = downloaded;\n",
              "          }\n",
              "        }\n",
              "      }\n",
              "      const blob = new Blob(buffers, {type: 'application/binary'});\n",
              "      const a = document.createElement('a');\n",
              "      a.href = window.URL.createObjectURL(blob);\n",
              "      a.download = filename;\n",
              "      div.appendChild(a);\n",
              "      a.click();\n",
              "      div.remove();\n",
              "    }\n",
              "  "
            ],
            "text/plain": [
              "<IPython.core.display.Javascript object>"
            ]
          },
          "metadata": {}
        },
        {
          "output_type": "display_data",
          "data": {
            "application/javascript": [
              "download(\"download_ea338b83-1314-4f63-8f9c-3c596c1ed10f\", \"results.json\", 34209)"
            ],
            "text/plain": [
              "<IPython.core.display.Javascript object>"
            ]
          },
          "metadata": {}
        }
      ]
    }
  ]
}