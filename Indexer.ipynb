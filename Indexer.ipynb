{
  "nbformat": 4,
  "nbformat_minor": 0,
  "metadata": {
    "colab": {
      "name": "Indexer.ipynb",
      "provenance": [],
      "collapsed_sections": [],
      "authorship_tag": "ABX9TyP2ZjbyghKJMHXwJi4CA7tg",
      "include_colab_link": true
    },
    "kernelspec": {
      "name": "python3",
      "display_name": "Python 3"
    },
    "language_info": {
      "name": "python"
    }
  },
  "cells": [
    {
      "cell_type": "markdown",
      "metadata": {
        "id": "view-in-github",
        "colab_type": "text"
      },
      "source": [
        "<a href=\"https://colab.research.google.com/github/kk25gb/AIdea-project-file/blob/Siamese-network/Indexer.ipynb\" target=\"_parent\"><img src=\"https://colab.research.google.com/assets/colab-badge.svg\" alt=\"Open In Colab\"/></a>"
      ]
    },
    {
      "cell_type": "markdown",
      "source": [
        "# 建立索引清單"
      ],
      "metadata": {
        "id": "9q6X-jsbsgCU"
      }
    },
    {
      "cell_type": "code",
      "source": [
        "import json\n",
        "import csv\n",
        "from urllib.request import urlopen\n",
        "from sklearn.cluster import KMeans\n",
        "import pandas as pd\n",
        "import numpy as np\n",
        "import tqdm"
      ],
      "metadata": {
        "id": "F_pYOrEgue-O"
      },
      "execution_count": 2,
      "outputs": []
    },
    {
      "cell_type": "code",
      "source": [
        "url = 'https://raw.githubusercontent.com/kk25gb/AIdea-project-file/main/stage2/vectorize_data.json'\n",
        "response = urlopen(url)\n",
        "data = json.loads(response.read())\n",
        "known_assay_labels = list(data.keys())\n",
        "df = pd.DataFrame(data).T"
      ],
      "metadata": {
        "id": "EiPjXGqQur8P"
      },
      "execution_count": 20,
      "outputs": []
    },
    {
      "cell_type": "code",
      "source": [
        "url = 'https://raw.githubusercontent.com/kk25gb/AIdea-project-file/Siamese-network/stage2/similarity_list_stage_2.json'\n",
        "response = urlopen(url)\n",
        "similarity_list = json.loads(response.read())"
      ],
      "metadata": {
        "id": "JZQfOlqpsmHG"
      },
      "execution_count": 5,
      "outputs": []
    },
    {
      "cell_type": "code",
      "source": [
        "similarity_list"
      ],
      "metadata": {
        "id": "7DB8DulEu3_F"
      },
      "execution_count": null,
      "outputs": []
    },
    {
      "cell_type": "code",
      "source": [
        "url = 'https://raw.githubusercontent.com/kk25gb/AIdea-project-file/Siamese-network/stage2/column_filter.json'\n",
        "response = urlopen(url)\n",
        "column_filter = json.loads(response.read())"
      ],
      "metadata": {
        "id": "OfLksopvtNud"
      },
      "execution_count": 6,
      "outputs": []
    },
    {
      "cell_type": "code",
      "source": [
        "object_list = df[column_filter[list(column_filter.keys())[index]]].loc[list(similarity_list.keys())[index]]\n",
        "object_list.iloc[:].tolist()"
      ],
      "metadata": {
        "colab": {
          "base_uri": "https://localhost:8080/"
        },
        "id": "rCLSf4GdwbDW",
        "outputId": "e0d1b720-cc20-4f50-bdc2-bfc20dc4eacc"
      },
      "execution_count": 31,
      "outputs": [
        {
          "output_type": "execute_result",
          "data": {
            "text/plain": [
              "[6, 14, 2, 3]"
            ]
          },
          "metadata": {},
          "execution_count": 31
        }
      ]
    },
    {
      "cell_type": "code",
      "source": [
        "index = 0\n",
        "filter1 = df[column_filter[list(column_filter.keys())[index]]].loc[similarity_list[list(similarity_list.keys())[index]]]\n",
        "filter1\n",
        "# "
      ],
      "metadata": {
        "id": "YpYSCMK7seVv",
        "outputId": "3ee7fcc1-aada-4083-e3e1-58b5412a29f6",
        "colab": {
          "base_uri": "https://localhost:8080/",
          "height": 551
        }
      },
      "execution_count": 38,
      "outputs": [
        {
          "output_type": "execute_result",
          "data": {
            "text/html": [
              "<div>\n",
              "<style scoped>\n",
              "    .dataframe tbody tr th:only-of-type {\n",
              "        vertical-align: middle;\n",
              "    }\n",
              "\n",
              "    .dataframe tbody tr th {\n",
              "        vertical-align: top;\n",
              "    }\n",
              "\n",
              "    .dataframe thead th {\n",
              "        text-align: right;\n",
              "    }\n",
              "</style>\n",
              "<table border=\"1\" class=\"dataframe\">\n",
              "  <thead>\n",
              "    <tr style=\"text-align: right;\">\n",
              "      <th></th>\n",
              "      <th>370</th>\n",
              "      <th>578</th>\n",
              "      <th>583</th>\n",
              "      <th>584</th>\n",
              "    </tr>\n",
              "  </thead>\n",
              "  <tbody>\n",
              "    <tr>\n",
              "      <th>269</th>\n",
              "      <td>3</td>\n",
              "      <td>7</td>\n",
              "      <td>1</td>\n",
              "      <td>1</td>\n",
              "    </tr>\n",
              "    <tr>\n",
              "      <th>889</th>\n",
              "      <td>7</td>\n",
              "      <td>13</td>\n",
              "      <td>5</td>\n",
              "      <td>3</td>\n",
              "    </tr>\n",
              "    <tr>\n",
              "      <th>660</th>\n",
              "      <td>1</td>\n",
              "      <td>5</td>\n",
              "      <td>4</td>\n",
              "      <td>1</td>\n",
              "    </tr>\n",
              "    <tr>\n",
              "      <th>390</th>\n",
              "      <td>5</td>\n",
              "      <td>6</td>\n",
              "      <td>4</td>\n",
              "      <td>1</td>\n",
              "    </tr>\n",
              "    <tr>\n",
              "      <th>315</th>\n",
              "      <td>7</td>\n",
              "      <td>5</td>\n",
              "      <td>4</td>\n",
              "      <td>1</td>\n",
              "    </tr>\n",
              "    <tr>\n",
              "      <th>1001</th>\n",
              "      <td>6</td>\n",
              "      <td>14</td>\n",
              "      <td>2</td>\n",
              "      <td>3</td>\n",
              "    </tr>\n",
              "    <tr>\n",
              "      <th>451</th>\n",
              "      <td>3</td>\n",
              "      <td>4</td>\n",
              "      <td>3</td>\n",
              "      <td>1</td>\n",
              "    </tr>\n",
              "    <tr>\n",
              "      <th>1123</th>\n",
              "      <td>4</td>\n",
              "      <td>8</td>\n",
              "      <td>1</td>\n",
              "      <td>1</td>\n",
              "    </tr>\n",
              "    <tr>\n",
              "      <th>399</th>\n",
              "      <td>5</td>\n",
              "      <td>7</td>\n",
              "      <td>1</td>\n",
              "      <td>1</td>\n",
              "    </tr>\n",
              "    <tr>\n",
              "      <th>19</th>\n",
              "      <td>3</td>\n",
              "      <td>7</td>\n",
              "      <td>1</td>\n",
              "      <td>2</td>\n",
              "    </tr>\n",
              "    <tr>\n",
              "      <th>1019</th>\n",
              "      <td>1</td>\n",
              "      <td>7</td>\n",
              "      <td>4</td>\n",
              "      <td>1</td>\n",
              "    </tr>\n",
              "    <tr>\n",
              "      <th>1034</th>\n",
              "      <td>3</td>\n",
              "      <td>5</td>\n",
              "      <td>1</td>\n",
              "      <td>1</td>\n",
              "    </tr>\n",
              "    <tr>\n",
              "      <th>1040</th>\n",
              "      <td>4</td>\n",
              "      <td>5</td>\n",
              "      <td>1</td>\n",
              "      <td>1</td>\n",
              "    </tr>\n",
              "    <tr>\n",
              "      <th>1091</th>\n",
              "      <td>6</td>\n",
              "      <td>10</td>\n",
              "      <td>9</td>\n",
              "      <td>1</td>\n",
              "    </tr>\n",
              "    <tr>\n",
              "      <th>1022</th>\n",
              "      <td>4</td>\n",
              "      <td>8</td>\n",
              "      <td>1</td>\n",
              "      <td>5</td>\n",
              "    </tr>\n",
              "    <tr>\n",
              "      <th>996</th>\n",
              "      <td>7</td>\n",
              "      <td>14</td>\n",
              "      <td>2</td>\n",
              "      <td>3</td>\n",
              "    </tr>\n",
              "  </tbody>\n",
              "</table>\n",
              "</div>"
            ],
            "text/plain": [
              "      370  578  583  584\n",
              "269     3    7    1    1\n",
              "889     7   13    5    3\n",
              "660     1    5    4    1\n",
              "390     5    6    4    1\n",
              "315     7    5    4    1\n",
              "1001    6   14    2    3\n",
              "451     3    4    3    1\n",
              "1123    4    8    1    1\n",
              "399     5    7    1    1\n",
              "19      3    7    1    2\n",
              "1019    1    7    4    1\n",
              "1034    3    5    1    1\n",
              "1040    4    5    1    1\n",
              "1091    6   10    9    1\n",
              "1022    4    8    1    5\n",
              "996     7   14    2    3"
            ]
          },
          "metadata": {},
          "execution_count": 38
        }
      ]
    },
    {
      "cell_type": "code",
      "source": [
        "index_list = column_filter[list(column_filter.keys())[index]]\n",
        "index_list"
      ],
      "metadata": {
        "colab": {
          "base_uri": "https://localhost:8080/"
        },
        "id": "8YpKdaxtzW3X",
        "outputId": "bb9e5527-33d0-4eb4-b1ed-10ba2562baca"
      },
      "execution_count": 39,
      "outputs": [
        {
          "output_type": "execute_result",
          "data": {
            "text/plain": [
              "[370, 578, 583, 584]"
            ]
          },
          "metadata": {},
          "execution_count": 39
        }
      ]
    },
    {
      "cell_type": "code",
      "source": [
        "for key, value in zip(filter1.iloc[:,:].index,filter1.iloc[:,:].values):\n",
        "  print(key, value.tolist())"
      ],
      "metadata": {
        "colab": {
          "base_uri": "https://localhost:8080/"
        },
        "id": "LQojIigRzHru",
        "outputId": "aeed6d5e-2ec0-4b24-ea96-3e52ea8838d3"
      },
      "execution_count": 33,
      "outputs": [
        {
          "output_type": "stream",
          "name": "stdout",
          "text": [
            "269 [3, 7, 1, 1]\n",
            "889 [7, 13, 5, 3]\n",
            "660 [1, 5, 4, 1]\n",
            "390 [5, 6, 4, 1]\n",
            "315 [7, 5, 4, 1]\n",
            "1001 [6, 14, 2, 3]\n",
            "451 [3, 4, 3, 1]\n",
            "1123 [4, 8, 1, 1]\n",
            "399 [5, 7, 1, 1]\n",
            "19 [3, 7, 1, 2]\n",
            "1019 [1, 7, 4, 1]\n",
            "1034 [3, 5, 1, 1]\n",
            "1040 [4, 5, 1, 1]\n",
            "1091 [6, 10, 9, 1]\n",
            "1022 [4, 8, 1, 5]\n",
            "996 [7, 14, 2, 3]\n"
          ]
        }
      ]
    }
  ]
}