{
  "nbformat": 4,
  "nbformat_minor": 0,
  "metadata": {
    "colab": {
      "name": "Indexer.ipynb",
      "provenance": [],
      "collapsed_sections": [],
      "authorship_tag": "ABX9TyNQ/uqC+mxFQhzpNyPjmLzT",
      "include_colab_link": true
    },
    "kernelspec": {
      "name": "python3",
      "display_name": "Python 3"
    },
    "language_info": {
      "name": "python"
    }
  },
  "cells": [
    {
      "cell_type": "markdown",
      "metadata": {
        "id": "view-in-github",
        "colab_type": "text"
      },
      "source": [
        "<a href=\"https://colab.research.google.com/github/kk25gb/AIdea-project-file/blob/Siamese-network/Indexer.ipynb\" target=\"_parent\"><img src=\"https://colab.research.google.com/assets/colab-badge.svg\" alt=\"Open In Colab\"/></a>"
      ]
    },
    {
      "cell_type": "markdown",
      "source": [
        "# 建立索引清單"
      ],
      "metadata": {
        "id": "9q6X-jsbsgCU"
      }
    },
    {
      "cell_type": "code",
      "source": [
        "import json\n",
        "import csv\n",
        "from urllib.request import urlopen\n",
        "from sklearn.cluster import KMeans\n",
        "import pandas as pd\n",
        "import numpy as np\n",
        "import tqdm"
      ],
      "metadata": {
        "id": "F_pYOrEgue-O"
      },
      "execution_count": 204,
      "outputs": []
    },
    {
      "cell_type": "code",
      "source": [
        "url = 'https://raw.githubusercontent.com/kk25gb/AIdea-project-file/main/stage2/vectorize_data.json'\n",
        "response = urlopen(url)\n",
        "data = json.loads(response.read())\n",
        "df = pd.DataFrame(data).T"
      ],
      "metadata": {
        "id": "EiPjXGqQur8P"
      },
      "execution_count": 224,
      "outputs": []
    },
    {
      "cell_type": "code",
      "source": [
        "# url = 'https://raw.githubusercontent.com/kk25gb/AIdea-project-file/Siamese-network/stage2/similarity_list_stage_2.json'\n",
        "# response = urlopen(url)\n",
        "# similarity_list = json.loads(response.read())"
      ],
      "metadata": {
        "id": "JZQfOlqpsmHG"
      },
      "execution_count": 206,
      "outputs": []
    },
    {
      "cell_type": "code",
      "source": [
        "# similarity_list"
      ],
      "metadata": {
        "id": "7DB8DulEu3_F"
      },
      "execution_count": 207,
      "outputs": []
    },
    {
      "cell_type": "code",
      "source": [
        "# url = 'https://raw.githubusercontent.com/kk25gb/AIdea-project-file/Siamese-network/stage2/column_filter.json'\n",
        "# response = urlopen(url)\n",
        "# column_filter = json.loads(response.read())"
      ],
      "metadata": {
        "id": "OfLksopvtNud"
      },
      "execution_count": 208,
      "outputs": []
    },
    {
      "cell_type": "code",
      "source": [
        "def Union_calculation(input):\n",
        "  union = set()\n",
        "  for values in list(input.values()):\n",
        "    if len(union)==0:\n",
        "      union = set(values)\n",
        "    else:\n",
        "      union = union & set(values)\n",
        "  return union"
      ],
      "metadata": {
        "id": "ew0W5t_Dt4fb"
      },
      "execution_count": 225,
      "outputs": []
    },
    {
      "cell_type": "code",
      "source": [
        "similarity_list = {}\n",
        "column_filter={}\n",
        "for key,labels in data.items():\n",
        "  row_1 = pd.DataFrame(labels).T\n",
        "  mask = row_1 > 0\n",
        "  filter = row_1[mask].dropna(axis=1).columns.tolist()\n",
        "  column_filter[key]=filter\n",
        "  filter_list = {}\n",
        "  for i in filter:\n",
        "    filter_list[i] = df.iloc[np.flatnonzero(df[i])].index.tolist()\n",
        "  similarity_list[key] = list(Union_calculation(filter_list))"
      ],
      "metadata": {
        "id": "mkLt1IxQt2ZO"
      },
      "execution_count": 226,
      "outputs": []
    },
    {
      "cell_type": "code",
      "source": [
        "# column_filter"
      ],
      "metadata": {
        "id": "TchJLsnV0yxj"
      },
      "execution_count": null,
      "outputs": []
    },
    {
      "cell_type": "code",
      "source": [
        "# similarity_list"
      ],
      "metadata": {
        "id": "fjefzqIC0uL7"
      },
      "execution_count": null,
      "outputs": []
    },
    {
      "cell_type": "code",
      "source": [
        "index=3\n",
        "object_list = df[column_filter[list(column_filter.keys())[index]]].loc[list(similarity_list.keys())[index]]\n",
        "object_list.iloc[:].tolist()"
      ],
      "metadata": {
        "colab": {
          "base_uri": "https://localhost:8080/"
        },
        "id": "rCLSf4GdwbDW",
        "outputId": "7e910ac3-5be9-474c-bdd9-4f8056d8356b"
      },
      "execution_count": 213,
      "outputs": [
        {
          "output_type": "execute_result",
          "data": {
            "text/plain": [
              "[6, 14, 2, 3]"
            ]
          },
          "metadata": {},
          "execution_count": 213
        }
      ]
    },
    {
      "cell_type": "code",
      "source": [
        "index = 3\n",
        "# index = list(column_filter.keys()).index('10')\n",
        "print(\"Object:\",list(column_filter.keys())[index])\n",
        "print(\"index:\",column_filter[list(column_filter.keys())[index]])\n",
        "print(\"values:\",df[column_filter[list(column_filter.keys())[index]]].loc[list(similarity_list.keys())[index]].tolist())\n",
        "print(\"same_index_rows:\",similarity_list[list(similarity_list.keys())[index]])\n",
        "index_filter = df[column_filter[list(column_filter.keys())[index]]].loc[similarity_list[list(similarity_list.keys())[index]]]\n",
        "index_filter"
      ],
      "metadata": {
        "id": "YpYSCMK7seVv",
        "outputId": "2ba204fc-48eb-4268-f37a-ae6c5c35257c",
        "colab": {
          "base_uri": "https://localhost:8080/",
          "height": 244
        }
      },
      "execution_count": 227,
      "outputs": [
        {
          "output_type": "stream",
          "name": "stdout",
          "text": [
            "Object: 1008\n",
            "index: [29, 87, 370, 571]\n",
            "values: [2, 2, 6, 11]\n",
            "same_index_rows: ['573', '1008', '574', '128']\n"
          ]
        },
        {
          "output_type": "execute_result",
          "data": {
            "text/html": [
              "<div>\n",
              "<style scoped>\n",
              "    .dataframe tbody tr th:only-of-type {\n",
              "        vertical-align: middle;\n",
              "    }\n",
              "\n",
              "    .dataframe tbody tr th {\n",
              "        vertical-align: top;\n",
              "    }\n",
              "\n",
              "    .dataframe thead th {\n",
              "        text-align: right;\n",
              "    }\n",
              "</style>\n",
              "<table border=\"1\" class=\"dataframe\">\n",
              "  <thead>\n",
              "    <tr style=\"text-align: right;\">\n",
              "      <th></th>\n",
              "      <th>29</th>\n",
              "      <th>87</th>\n",
              "      <th>370</th>\n",
              "      <th>571</th>\n",
              "    </tr>\n",
              "  </thead>\n",
              "  <tbody>\n",
              "    <tr>\n",
              "      <th>573</th>\n",
              "      <td>2</td>\n",
              "      <td>2</td>\n",
              "      <td>5</td>\n",
              "      <td>9</td>\n",
              "    </tr>\n",
              "    <tr>\n",
              "      <th>1008</th>\n",
              "      <td>2</td>\n",
              "      <td>2</td>\n",
              "      <td>6</td>\n",
              "      <td>11</td>\n",
              "    </tr>\n",
              "    <tr>\n",
              "      <th>574</th>\n",
              "      <td>2</td>\n",
              "      <td>2</td>\n",
              "      <td>5</td>\n",
              "      <td>7</td>\n",
              "    </tr>\n",
              "    <tr>\n",
              "      <th>128</th>\n",
              "      <td>2</td>\n",
              "      <td>1</td>\n",
              "      <td>1</td>\n",
              "      <td>3</td>\n",
              "    </tr>\n",
              "  </tbody>\n",
              "</table>\n",
              "</div>"
            ],
            "text/plain": [
              "      29   87   370  571\n",
              "573     2    2    5    9\n",
              "1008    2    2    6   11\n",
              "574     2    2    5    7\n",
              "128     2    1    1    3"
            ]
          },
          "metadata": {},
          "execution_count": 227
        }
      ]
    },
    {
      "cell_type": "markdown",
      "source": [
        "# 進行迭代分析"
      ],
      "metadata": {
        "id": "Tw4D9Oci1SbW"
      }
    },
    {
      "cell_type": "code",
      "source": [
        "df[column_filter[list(column_filter.keys())[index]]].loc[list(similarity_list.keys())[index]].tolist()"
      ],
      "metadata": {
        "colab": {
          "base_uri": "https://localhost:8080/"
        },
        "id": "LFvPh4TTvqA_",
        "outputId": "07ab29c1-b2af-45cd-f8ad-68351450f710"
      },
      "execution_count": 215,
      "outputs": [
        {
          "output_type": "execute_result",
          "data": {
            "text/plain": [
              "[4, 3, 4, 3, 2]"
            ]
          },
          "metadata": {},
          "execution_count": 215
        }
      ]
    },
    {
      "cell_type": "code",
      "source": [
        "results = {}\n",
        "for i in list(column_filter.keys()):\n",
        "  index_object = column_filter[i]\n",
        "  # print(\"Object:\",i,index_object)\n",
        "  compare_object = df[column_filter[i]].loc[i].tolist()\n",
        "  results[i]={\"key\":index_object}\n",
        "  compare_table = df[column_filter[i]].loc[similarity_list[i]]\n",
        "  temp={}\n",
        "  for key, value in zip(compare_table.iloc[:,:].index,compare_table.iloc[:,:].values):\n",
        "    if key!=i:temp[key] = value.tolist()\n",
        "  if len(temp)>0:\n",
        "    results[i][\"values\"]=temp\n",
        "  else:\n",
        "    del results[i]\n",
        "  # print('----------------------')\n",
        "  # break\n",
        "  "
      ],
      "metadata": {
        "id": "4ms-X3lf1hJ1"
      },
      "execution_count": null,
      "outputs": []
    },
    {
      "cell_type": "code",
      "source": [
        "# compare_table.iloc[:,:].index"
      ],
      "metadata": {
        "colab": {
          "base_uri": "https://localhost:8080/"
        },
        "id": "Fb2931pU2Qgo",
        "outputId": "c9d42da2-6b60-4f51-effa-6b698f8ad46b"
      },
      "execution_count": 217,
      "outputs": [
        {
          "output_type": "execute_result",
          "data": {
            "text/plain": [
              "Index(['998'], dtype='object')"
            ]
          },
          "metadata": {},
          "execution_count": 217
        }
      ]
    },
    {
      "cell_type": "code",
      "source": [
        "# results"
      ],
      "metadata": {
        "id": "-ygIs0mS1ad9"
      },
      "execution_count": null,
      "outputs": []
    },
    {
      "cell_type": "markdown",
      "source": [
        "# 匯出檔案"
      ],
      "metadata": {
        "id": "GONtFyWuj52s"
      }
    },
    {
      "cell_type": "markdown",
      "source": [
        "##儲存為JSON格式"
      ],
      "metadata": {
        "id": "yozTSaIzj8Gp"
      }
    },
    {
      "cell_type": "code",
      "source": [
        "import json\n",
        "with open('./results.json', 'w', encoding='utf8') as f:\n",
        "    json.dump(results, f, ensure_ascii=False)"
      ],
      "metadata": {
        "id": "WvJ6s_Nqj7v3"
      },
      "execution_count": 219,
      "outputs": []
    },
    {
      "cell_type": "markdown",
      "source": [
        "## 從Colab下載檔案到電腦"
      ],
      "metadata": {
        "id": "Evb15Mxlj3H9"
      }
    },
    {
      "cell_type": "code",
      "source": [
        "from google.colab import files\n",
        "files.download(\"/content/results.json\")"
      ],
      "metadata": {
        "id": "q9uaWWvij2NM"
      },
      "execution_count": null,
      "outputs": []
    }
  ]
}