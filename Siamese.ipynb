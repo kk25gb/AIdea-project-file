{
  "nbformat": 4,
  "nbformat_minor": 0,
  "metadata": {
    "colab": {
      "name": "Siamese.ipynb",
      "provenance": [],
      "authorship_tag": "ABX9TyPtsNM4q/xc2yMc3YEsPpLS",
      "include_colab_link": true
    },
    "kernelspec": {
      "name": "python3",
      "display_name": "Python 3"
    },
    "language_info": {
      "name": "python"
    }
  },
  "cells": [
    {
      "cell_type": "markdown",
      "metadata": {
        "id": "view-in-github",
        "colab_type": "text"
      },
      "source": [
        "<a href=\"https://colab.research.google.com/github/kk25gb/AIdea-project-file/blob/main/Siamese.ipynb\" target=\"_parent\"><img src=\"https://colab.research.google.com/assets/colab-badge.svg\" alt=\"Open In Colab\"/></a>"
      ]
    },
    {
      "cell_type": "code",
      "metadata": {
        "id": "P8KEkib7AVg9"
      },
      "source": [
        "import json\n",
        "from keras import layers,Input\n",
        "from keras.models import Model\n",
        "from urllib.request import urlopen"
      ],
      "execution_count": 5,
      "outputs": []
    },
    {
      "cell_type": "markdown",
      "metadata": {
        "id": "5ccZcvnZALYd"
      },
      "source": [
        "# Stage 1 資料前處理"
      ]
    },
    {
      "cell_type": "code",
      "metadata": {
        "colab": {
          "base_uri": "https://localhost:8080/"
        },
        "id": "v08lDGDZAJaP",
        "outputId": "8a78ca4b-8795-4c07-a9af-82d9707fcb1b"
      },
      "source": [
        "from sklearn.cluster import KMeans\n",
        "import json\n",
        "import pandas as pd\n",
        "\n",
        "response = urlopen('https://raw.githubusercontent.com/kk25gb/AIdea-project-file/main/stage1/vectorize_data.json')\n",
        "data = json.loads(response.read())\n",
        "df = pd.DataFrame(data).T\n",
        "\n",
        "print(df)\n"
      ],
      "execution_count": 6,
      "outputs": [
        {
          "output_type": "stream",
          "name": "stdout",
          "text": [
            "      0    1    2    3    4    5    6    ...  757  758  759  760  761  762  763\n",
            "1       0    0    4    0    0    0    0  ...    0    0    0    0    0    0    0\n",
            "10      0    0    0    0    0    0    0  ...    0    0    0    0    0    0    0\n",
            "1000    0    0    0    0    0    0    0  ...    0    0    0    0    0    0    0\n",
            "1005    0    0    0    0    0    0    0  ...    0    0    0    0    0    0    0\n",
            "1007    0    0    0    0    0    0    0  ...    0    0    0    0    0    0    0\n",
            "...   ...  ...  ...  ...  ...  ...  ...  ...  ...  ...  ...  ...  ...  ...  ...\n",
            "986     0    0    0    0    0    0    0  ...    0    0    0    0    0    0    0\n",
            "988     0    0    0    0    0    0    0  ...    0    0    0    0    0    0    0\n",
            "992     0    0    0    0    0    0    0  ...    0    0    0    0    0    0    0\n",
            "997     0    0    0    0    0    0    0  ...    0    0    0    0    0    0    0\n",
            "998     0    0    0    0    0    0    0  ...    0    0    0    0    0    0    0\n",
            "\n",
            "[559 rows x 764 columns]\n"
          ]
        }
      ]
    },
    {
      "cell_type": "code",
      "metadata": {
        "id": "4_4zVMfwAO6N"
      },
      "source": [
        ""
      ],
      "execution_count": null,
      "outputs": []
    },
    {
      "cell_type": "markdown",
      "metadata": {
        "id": "LBVl1yEbAPY1"
      },
      "source": [
        "# 建立神經網路模型"
      ]
    },
    {
      "cell_type": "code",
      "metadata": {
        "colab": {
          "base_uri": "https://localhost:8080/"
        },
        "id": "-FQDylSC-GyF",
        "outputId": "1184ea05-0794-409b-b29f-d8c1fd954fad"
      },
      "source": [
        "\n",
        "lstm = layers.LSTM(32)\n",
        "left_input = Input(shape=(None,128))\n",
        "print(left_input.shape)\n",
        "left_output = lstm(left_input)\n",
        "print(left_output.shape)\n",
        "\n",
        "right_input = Input(shape=(None,128))\n",
        "print(right_input.shape)\n",
        "right_output = lstm(right_input)\n",
        "print(right_output.shape)\n",
        "\n",
        "merged = layers.concatenate([left_output,right_output],axis=-1) # 將向量串接\n",
        "print(merged.shape)\n",
        "\n",
        "predictions = layers.Dense(1,activation='sigmoid')(merged)\n",
        "model = Model([left_input,right_input],predictions)"
      ],
      "execution_count": 1,
      "outputs": [
        {
          "output_type": "stream",
          "name": "stdout",
          "text": [
            "(None, None, 128)\n",
            "(None, 32)\n",
            "(None, None, 128)\n",
            "(None, 32)\n",
            "(None, 64)\n"
          ]
        }
      ]
    }
  ]
}