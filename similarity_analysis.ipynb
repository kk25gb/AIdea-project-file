{
  "nbformat": 4,
  "nbformat_minor": 0,
  "metadata": {
    "colab": {
      "name": "similarity_analysis.ipynb",
      "provenance": [],
      "collapsed_sections": [],
      "authorship_tag": "ABX9TyNfsvw12mZ0jHzN3NJICq/c",
      "include_colab_link": true
    },
    "kernelspec": {
      "name": "python3",
      "display_name": "Python 3"
    },
    "language_info": {
      "name": "python"
    }
  },
  "cells": [
    {
      "cell_type": "markdown",
      "metadata": {
        "id": "view-in-github",
        "colab_type": "text"
      },
      "source": [
        "<a href=\"https://colab.research.google.com/github/kk25gb/AIdea-project-file/blob/Siamese-network/similarity_analysis.ipynb\" target=\"_parent\"><img src=\"https://colab.research.google.com/assets/colab-badge.svg\" alt=\"Open In Colab\"/></a>"
      ]
    },
    {
      "cell_type": "code",
      "source": [
        "import json\n",
        "import csv\n",
        "from urllib.request import urlopen\n",
        "from sklearn.cluster import KMeans\n",
        "import pandas as pd\n",
        "import numpy as np\n",
        "import tqdm "
      ],
      "metadata": {
        "id": "e_GlzWvV8Xkk"
      },
      "execution_count": 151,
      "outputs": []
    },
    {
      "cell_type": "markdown",
      "source": [
        "# Cosine sumilarity"
      ],
      "metadata": {
        "id": "Qd-R4lZa8TPQ"
      }
    },
    {
      "cell_type": "code",
      "execution_count": 152,
      "metadata": {
        "id": "-YQXowgJ8SoU"
      },
      "outputs": [],
      "source": [
        "url = 'https://raw.githubusercontent.com/kk25gb/AIdea-project-file/main/stage2/vectorize_data.json'\n",
        "response = urlopen(url)\n",
        "data = json.loads(response.read())\n",
        "known_assay_labels = list(data.keys())\n",
        "df = pd.DataFrame(data).T"
      ]
    },
    {
      "cell_type": "code",
      "source": [
        "known_assay_labels[0]"
      ],
      "metadata": {
        "colab": {
          "base_uri": "https://localhost:8080/",
          "height": 35
        },
        "id": "riOOSmOoB3fG",
        "outputId": "9c148f85-75f5-4634-9960-aee5feca9688"
      },
      "execution_count": 153,
      "outputs": [
        {
          "output_type": "execute_result",
          "data": {
            "application/vnd.google.colaboratory.intrinsic+json": {
              "type": "string"
            },
            "text/plain": [
              "'1001'"
            ]
          },
          "metadata": {},
          "execution_count": 153
        }
      ]
    },
    {
      "cell_type": "code",
      "source": [
        "row_1 = pd.DataFrame(data[known_assay_labels[0]]).T"
      ],
      "metadata": {
        "id": "Um8UvwrY8pcF"
      },
      "execution_count": 154,
      "outputs": []
    },
    {
      "cell_type": "code",
      "source": [
        "mask = row_1 > 0"
      ],
      "metadata": {
        "id": "m3L3eZfk_Ax1"
      },
      "execution_count": 155,
      "outputs": []
    },
    {
      "cell_type": "code",
      "source": [
        "filter = row_1[mask].dropna(axis=1).columns.tolist()"
      ],
      "metadata": {
        "id": "Z6OPGc6NAjcW"
      },
      "execution_count": 156,
      "outputs": []
    },
    {
      "cell_type": "code",
      "source": [
        "same_dimention_filter = df[filter]\n",
        "same_dimention_filter.head()"
      ],
      "metadata": {
        "colab": {
          "base_uri": "https://localhost:8080/",
          "height": 206
        },
        "id": "obd4WphvAJZ1",
        "outputId": "73614992-0fa9-47f9-c211-6e0256d7d439"
      },
      "execution_count": 157,
      "outputs": [
        {
          "output_type": "execute_result",
          "data": {
            "text/html": [
              "<div>\n",
              "<style scoped>\n",
              "    .dataframe tbody tr th:only-of-type {\n",
              "        vertical-align: middle;\n",
              "    }\n",
              "\n",
              "    .dataframe tbody tr th {\n",
              "        vertical-align: top;\n",
              "    }\n",
              "\n",
              "    .dataframe thead th {\n",
              "        text-align: right;\n",
              "    }\n",
              "</style>\n",
              "<table border=\"1\" class=\"dataframe\">\n",
              "  <thead>\n",
              "    <tr style=\"text-align: right;\">\n",
              "      <th></th>\n",
              "      <th>370</th>\n",
              "      <th>578</th>\n",
              "      <th>583</th>\n",
              "      <th>584</th>\n",
              "    </tr>\n",
              "  </thead>\n",
              "  <tbody>\n",
              "    <tr>\n",
              "      <th>1001</th>\n",
              "      <td>6</td>\n",
              "      <td>14</td>\n",
              "      <td>2</td>\n",
              "      <td>3</td>\n",
              "    </tr>\n",
              "    <tr>\n",
              "      <th>1004</th>\n",
              "      <td>0</td>\n",
              "      <td>0</td>\n",
              "      <td>0</td>\n",
              "      <td>0</td>\n",
              "    </tr>\n",
              "    <tr>\n",
              "      <th>1006</th>\n",
              "      <td>0</td>\n",
              "      <td>0</td>\n",
              "      <td>0</td>\n",
              "      <td>0</td>\n",
              "    </tr>\n",
              "    <tr>\n",
              "      <th>1008</th>\n",
              "      <td>6</td>\n",
              "      <td>0</td>\n",
              "      <td>0</td>\n",
              "      <td>0</td>\n",
              "    </tr>\n",
              "    <tr>\n",
              "      <th>1009</th>\n",
              "      <td>7</td>\n",
              "      <td>0</td>\n",
              "      <td>0</td>\n",
              "      <td>0</td>\n",
              "    </tr>\n",
              "  </tbody>\n",
              "</table>\n",
              "</div>"
            ],
            "text/plain": [
              "      370  578  583  584\n",
              "1001    6   14    2    3\n",
              "1004    0    0    0    0\n",
              "1006    0    0    0    0\n",
              "1008    6    0    0    0\n",
              "1009    7    0    0    0"
            ]
          },
          "metadata": {},
          "execution_count": 157
        }
      ]
    },
    {
      "cell_type": "code",
      "source": [
        "filter_list = {}\n",
        "for i in filter:\n",
        "  filter_list[i] = df.iloc[np.flatnonzero(df[i])].index.tolist()"
      ],
      "metadata": {
        "id": "mTXb0wRqFar0"
      },
      "execution_count": 158,
      "outputs": []
    },
    {
      "cell_type": "code",
      "source": [
        "def Union_calculation(input):\n",
        "  union = set()\n",
        "  for values in list(input.values()):\n",
        "    if len(union)==0:\n",
        "      union = set(values)\n",
        "    else:\n",
        "      union = union & set(values)\n",
        "  return union"
      ],
      "metadata": {
        "id": "TM8gLsEKHXKV"
      },
      "execution_count": 159,
      "outputs": []
    },
    {
      "cell_type": "code",
      "source": [
        "Union_calculation(filter_list)"
      ],
      "metadata": {
        "colab": {
          "base_uri": "https://localhost:8080/"
        },
        "id": "CLfIhfbKMrrW",
        "outputId": "702b4644-6fa9-4f30-81c4-097173252799"
      },
      "execution_count": 160,
      "outputs": [
        {
          "output_type": "execute_result",
          "data": {
            "text/plain": [
              "{'1001',\n",
              " '1019',\n",
              " '1022',\n",
              " '1034',\n",
              " '1040',\n",
              " '1091',\n",
              " '1123',\n",
              " '19',\n",
              " '269',\n",
              " '315',\n",
              " '390',\n",
              " '399',\n",
              " '451',\n",
              " '660',\n",
              " '889',\n",
              " '996'}"
            ]
          },
          "metadata": {},
          "execution_count": 160
        }
      ]
    },
    {
      "cell_type": "markdown",
      "source": [
        "## 建立自動篩選函式"
      ],
      "metadata": {
        "id": "ZoCRQRnBM7JN"
      }
    },
    {
      "cell_type": "code",
      "source": [
        "results = {}\n",
        "for key,labels in data.items():\n",
        "  row_1 = pd.DataFrame(labels).T\n",
        "  mask = row_1 > 0\n",
        "  filter = row_1[mask].dropna(axis=1).columns.tolist()\n",
        "  filter_list = {}\n",
        "  for i in filter:\n",
        "    filter_list[i] = df.iloc[np.flatnonzero(df[i])].index.tolist()\n",
        "  results[key] = list(Union_calculation(filter_list))"
      ],
      "metadata": {
        "id": "NKsptALjM-CW"
      },
      "execution_count": 161,
      "outputs": []
    },
    {
      "cell_type": "code",
      "source": [
        "results"
      ],
      "metadata": {
        "id": "Dy97UWQfNnsH"
      },
      "execution_count": null,
      "outputs": []
    },
    {
      "cell_type": "code",
      "source": [
        "with open('./results.json', 'w', encoding='utf8') as f:\n",
        "    json.dump(results, f, ensure_ascii=False)"
      ],
      "metadata": {
        "id": "qhp_EtfNN_fE"
      },
      "execution_count": 163,
      "outputs": []
    },
    {
      "cell_type": "markdown",
      "source": [
        "## 從Colab下載檔案到電腦"
      ],
      "metadata": {
        "id": "hbQy8z7L0WIM"
      }
    },
    {
      "cell_type": "code",
      "source": [
        "from google.colab import files\n",
        "files.download(\"/content/results.json\")"
      ],
      "metadata": {
        "colab": {
          "base_uri": "https://localhost:8080/",
          "height": 17
        },
        "id": "FhLxCxRRz8JU",
        "outputId": "059f55ea-ba55-4314-bae3-50b47a744a01"
      },
      "execution_count": 164,
      "outputs": [
        {
          "output_type": "display_data",
          "data": {
            "application/javascript": [
              "\n",
              "    async function download(id, filename, size) {\n",
              "      if (!google.colab.kernel.accessAllowed) {\n",
              "        return;\n",
              "      }\n",
              "      const div = document.createElement('div');\n",
              "      const label = document.createElement('label');\n",
              "      label.textContent = `Downloading \"${filename}\": `;\n",
              "      div.appendChild(label);\n",
              "      const progress = document.createElement('progress');\n",
              "      progress.max = size;\n",
              "      div.appendChild(progress);\n",
              "      document.body.appendChild(div);\n",
              "\n",
              "      const buffers = [];\n",
              "      let downloaded = 0;\n",
              "\n",
              "      const channel = await google.colab.kernel.comms.open(id);\n",
              "      // Send a message to notify the kernel that we're ready.\n",
              "      channel.send({})\n",
              "\n",
              "      for await (const message of channel.messages) {\n",
              "        // Send a message to notify the kernel that we're ready.\n",
              "        channel.send({})\n",
              "        if (message.buffers) {\n",
              "          for (const buffer of message.buffers) {\n",
              "            buffers.push(buffer);\n",
              "            downloaded += buffer.byteLength;\n",
              "            progress.value = downloaded;\n",
              "          }\n",
              "        }\n",
              "      }\n",
              "      const blob = new Blob(buffers, {type: 'application/binary'});\n",
              "      const a = document.createElement('a');\n",
              "      a.href = window.URL.createObjectURL(blob);\n",
              "      a.download = filename;\n",
              "      div.appendChild(a);\n",
              "      a.click();\n",
              "      div.remove();\n",
              "    }\n",
              "  "
            ],
            "text/plain": [
              "<IPython.core.display.Javascript object>"
            ]
          },
          "metadata": {}
        },
        {
          "output_type": "display_data",
          "data": {
            "application/javascript": [
              "download(\"download_1b222485-2642-483a-baa6-e97421c327cd\", \"results.json\", 13585)"
            ],
            "text/plain": [
              "<IPython.core.display.Javascript object>"
            ]
          },
          "metadata": {}
        }
      ]
    }
  ]
}