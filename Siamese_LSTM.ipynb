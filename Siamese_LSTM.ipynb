{
  "nbformat": 4,
  "nbformat_minor": 0,
  "metadata": {
    "colab": {
      "name": "Siamese LSTM.ipynb",
      "provenance": [],
      "authorship_tag": "ABX9TyNXm6m7ZXmAUikWIwC2y37V",
      "include_colab_link": true
    },
    "kernelspec": {
      "name": "python3",
      "display_name": "Python 3"
    },
    "language_info": {
      "name": "python"
    }
  },
  "cells": [
    {
      "cell_type": "markdown",
      "metadata": {
        "id": "view-in-github",
        "colab_type": "text"
      },
      "source": [
        "<a href=\"https://colab.research.google.com/github/kk25gb/AIdea-project-file/blob/main/Siamese_LSTM.ipynb\" target=\"_parent\"><img src=\"https://colab.research.google.com/assets/colab-badge.svg\" alt=\"Open In Colab\"/></a>"
      ]
    },
    {
      "cell_type": "code",
      "metadata": {
        "id": "-FQDylSC-GyF"
      },
      "source": [
        "from keras import layers,Input\n",
        "from keras.models import Model\n",
        "\n",
        "lstm = layers.LSTM(32)\n",
        "left_input = Input(shape=(None,128))\n",
        "print(left_input.shape)\n",
        "left_output = lstm(left_input)\n",
        "print(left_output.shape)\n",
        "\n",
        "right_input = Input(shape=(None,128))\n",
        "print(right_input.shape)\n",
        "right_output = lstm(right_input)\n",
        "print(right_output.shape)\n",
        "\n",
        "merged = layers.concatenate([left_output,right_output],axis=-1) # 將向量串接\n",
        "print(merged.shape)\n",
        "\n",
        "predictions = layers.Dense(1,activation='sigmoid')(merged)\n",
        "model = Model([left_input,right_input],predictions)"
      ],
      "execution_count": null,
      "outputs": []
    }
  ]
}